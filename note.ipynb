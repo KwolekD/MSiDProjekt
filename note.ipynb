{
 "cells": [
  {
   "cell_type": "code",
   "execution_count": 1,
   "metadata": {},
   "outputs": [
    {
     "data": {
      "text/html": [
       "\n",
       "            <div>\n",
       "                <ins><a href=\"ttps://ydata.ai/register\">Upgrade to ydata-sdk</a></ins>\n",
       "                <p>\n",
       "                    Improve your data and profiling with ydata-sdk, featuring data quality scoring, redundancy detection, outlier identification, text validation, and synthetic data generation.\n",
       "                </p>\n",
       "            </div>\n",
       "            "
      ],
      "text/plain": [
       "<IPython.core.display.HTML object>"
      ]
     },
     "metadata": {},
     "output_type": "display_data"
    }
   ],
   "source": [
    "import pandas as pd\n",
    "import numpy as np\n",
    "from ydata_profiling import ProfileReport\n",
    "\n",
    "dataf: pd.DataFrame = pd.read_csv(\"data\\\\dataset.csv\")"
   ]
  },
  {
   "cell_type": "markdown",
   "metadata": {},
   "source": [
    "Przyjrzenie się danym"
   ]
  },
  {
   "cell_type": "code",
   "execution_count": 2,
   "metadata": {},
   "outputs": [
    {
     "name": "stdout",
     "output_type": "stream",
     "text": [
      "Index(['Marital status', 'Application mode', 'Application order', 'Course',\n",
      "       'Daytime/evening attendance', 'Previous qualification', 'Nacionality',\n",
      "       'Mother's qualification', 'Father's qualification',\n",
      "       'Mother's occupation', 'Father's occupation', 'Displaced',\n",
      "       'Educational special needs', 'Debtor', 'Tuition fees up to date',\n",
      "       'Gender', 'Scholarship holder', 'Age at enrollment', 'International',\n",
      "       'Curricular units 1st sem (credited)',\n",
      "       'Curricular units 1st sem (enrolled)',\n",
      "       'Curricular units 1st sem (evaluations)',\n",
      "       'Curricular units 1st sem (approved)',\n",
      "       'Curricular units 1st sem (grade)',\n",
      "       'Curricular units 1st sem (without evaluations)',\n",
      "       'Curricular units 2nd sem (credited)',\n",
      "       'Curricular units 2nd sem (enrolled)',\n",
      "       'Curricular units 2nd sem (evaluations)',\n",
      "       'Curricular units 2nd sem (approved)',\n",
      "       'Curricular units 2nd sem (grade)',\n",
      "       'Curricular units 2nd sem (without evaluations)', 'Unemployment rate',\n",
      "       'Inflation rate', 'GDP', 'Target'],\n",
      "      dtype='object')\n"
     ]
    }
   ],
   "source": [
    "print(dataf.columns)"
   ]
  },
  {
   "cell_type": "markdown",
   "metadata": {},
   "source": [
    "Konwersja Martial status na kategorialny"
   ]
  },
  {
   "cell_type": "code",
   "execution_count": 6,
   "metadata": {},
   "outputs": [],
   "source": [
    "dataf[\"MaritalStatusName\"] = dataf[\"Marital status\"].map({1: \"Single\",2: \"Married\",3: \"Widower\",4: \"Divorced\",5: \"Facto union\",6: \"Legally separated\"})"
   ]
  },
  {
   "cell_type": "code",
   "execution_count": 4,
   "metadata": {},
   "outputs": [],
   "source": [
    "application_modes = {\n",
    "    1: \"1st phase - general contingent\",\n",
    "    2: \"Ordinance No. 612/93\",\n",
    "    5: \"1st phase - special contingent (Azores Island)\",\n",
    "    7: \"Holders of other higher courses\",\n",
    "    10: \"Ordinance No. 854-B/99\",\n",
    "    15: \"International student (bachelor)\",\n",
    "    16: \"1st phase - special contingent (Madeira Island)\",\n",
    "    17: \"2nd phase - general contingent\",\n",
    "    18: \"3rd phase - general contingent\",\n",
    "    26: \"Ordinance No. 533-A/99, item b2) (Different Plan)\",\n",
    "    27: \"Ordinance No. 533-A/99, item b3 (Other Institution)\",\n",
    "    39: \"Over 23 years old\",\n",
    "    42: \"Transfer\",\n",
    "    43: \"Change of course\",\n",
    "    44: \"Technological specialization diploma holders\",\n",
    "    51: \"Change of institution/course\",\n",
    "    53: \"Short cycle diploma holders\",\n",
    "    57: \"Change of institution/course (International)\"\n",
    "}\n",
    "\n",
    "dataf[\"ApplicationModeName\"] = dataf[\"Application mode\"].map(application_modes)"
   ]
  },
  {
   "cell_type": "code",
   "execution_count": 7,
   "metadata": {},
   "outputs": [],
   "source": [
    "courses = {\n",
    "    33: \"Biofuel Production Technologies\",\n",
    "    171: \"Animation and Multimedia Design\",\n",
    "    8014: \"Social Service (evening attendance)\",\n",
    "    9003: \"Agronomy\",\n",
    "    9070: \"Communication Design\",\n",
    "    9085: \"Veterinary Nursing\",\n",
    "    9119: \"Informatics Engineering\",\n",
    "    9130: \"Equinculture\", \n",
    "    9147: \"Management\",\n",
    "    9238: \"Social Service\",\n",
    "    9254: \"Tourism\",\n",
    "    9500: \"Nursing\",\n",
    "    9556: \"Oral Hygiene\",\n",
    "    9670: \"Advertising and Marketing Management\",\n",
    "    9773: \"Journalism and Communication\",\n",
    "    9853: \"Basic Education\",\n",
    "    9991: \"Management (evening attendance)\"\n",
    "}\n",
    "\n",
    "dataf[\"CourseName\"] = dataf[\"Course\"].map(courses)"
   ]
  },
  {
   "cell_type": "code",
   "execution_count": 8,
   "metadata": {},
   "outputs": [],
   "source": [
    "day_part = {\n",
    "    1: \"Daytime\",\n",
    "    0: \"Evening\"\n",
    "}\n",
    "\n",
    "dataf[\"Daytime/evening attendance\"] = dataf[\"Daytime/evening attendance\"].map(day_part)\n"
   ]
  },
  {
   "cell_type": "code",
   "execution_count": null,
   "metadata": {},
   "outputs": [],
   "source": [
    "education_dict = {\n",
    "    1: \"Secondary Education - 12th Year of Schooling or Eq.\",\n",
    "    2: \"Higher Education - Bachelor's Degree\",\n",
    "    3: \"Higher Education - Degree\",\n",
    "    4: \"Higher Education - Master's\",\n",
    "    5: \"Higher Education - Doctorate\",\n",
    "    6: \"Frequency of Higher Education\",\n",
    "    9: \"12th Year of Schooling - Not Completed\",\n",
    "    10: \"11th Year of Schooling - Not Completed\",\n",
    "    11: \"7th Year (Old)\",\n",
    "    12: \"Other - 11th Year of Schooling\",\n",
    "    13: \"2nd year complementary high school course\",  \n",
    "    14: \"10th Year of Schooling\",\n",
    "    18: \"General commerce course\",\n",
    "    19: \"Basic Education 3rd Cycle (9th/10th/11th Year) or Equiv.\",\n",
    "    20: \"Complementary High School Course\", \n",
    "    22: \"Technical-professional course\",\n",
    "    25: \"Complementary High School Course - not concluded\",  \n",
    "    26: \"7th year of schooling\",\n",
    "    27: \"2nd cycle of the general high school course\",\n",
    "    29: \"9th Year of Schooling - Not Completed\",\n",
    "    30: \"8th year of schooling\",\n",
    "    31: \"General Course of Administration and Commerce\", \n",
    "    33: \"Supplementary Accounting and Administration\",  \n",
    "    34: \"Unknown\",\n",
    "    35: \"Can't read or write\",\n",
    "    36: \"Can read without having a 4th year of schooling\",\n",
    "    37: \"Basic education 1st cycle (4th/5th year) or equiv.\",\n",
    "    38: \"Basic Education 2nd Cycle (6th/7th/8th Year) or Equiv.\",\n",
    "    39: \"Technological specialization course\",\n",
    "    40: \"Higher education - degree (1st cycle)\",\n",
    "    41: \"Specialized higher studies course\",\n",
    "    42: \"Professional higher technical course\",\n",
    "    43: \"Higher Education - Master (2nd cycle)\",\n",
    "    44: \"Higher Education - Doctorate (3rd cycle)\"\n",
    "}\n",
    "\n",
    "dataf[\"Previous qualification\"] = dataf[\"Previous qualification\"].map(education_dict)"
   ]
  },
  {
   "cell_type": "code",
   "execution_count": 10,
   "metadata": {},
   "outputs": [],
   "source": [
    "nationality_dict = {\n",
    "    1: \"Portuguese\",\n",
    "    2: \"German\",\n",
    "    6: \"Spanish\",\n",
    "    11: \"Italian\",\n",
    "    13: \"Dutch\",\n",
    "    14: \"English\",\n",
    "    17: \"Lithuanian\",\n",
    "    21: \"Angolan\",\n",
    "    22: \"Cape Verdean\",\n",
    "    24: \"Guinean\",\n",
    "    25: \"Mozambican\",\n",
    "    26: \"Santomean\",\n",
    "    32: \"Turkish\",\n",
    "    41: \"Brazilian\",\n",
    "    62: \"Romanian\",\n",
    "    100: \"Moldova (Republic of)\",\n",
    "    101: \"Mexican\",\n",
    "    103: \"Ukrainian\",\n",
    "    105: \"Russian\",\n",
    "    108: \"Cuban\",\n",
    "    109: \"Colombian\"\n",
    "}\n",
    "\n",
    "dataf[\"Nacionality\"] = dataf[\"Nacionality\"].map(nationality_dict)"
   ]
  }
 ],
 "metadata": {
  "kernelspec": {
   "display_name": "msid",
   "language": "python",
   "name": "python3"
  },
  "language_info": {
   "codemirror_mode": {
    "name": "ipython",
    "version": 3
   },
   "file_extension": ".py",
   "mimetype": "text/x-python",
   "name": "python",
   "nbconvert_exporter": "python",
   "pygments_lexer": "ipython3",
   "version": "3.12.9"
  }
 },
 "nbformat": 4,
 "nbformat_minor": 2
}
